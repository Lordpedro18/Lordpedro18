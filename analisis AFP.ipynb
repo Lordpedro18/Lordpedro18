{
 "cells": [
  {
   "cell_type": "code",
   "execution_count": 111,
   "metadata": {},
   "outputs": [],
   "source": [
    "import pandas as pd\n",
    "import matplotlib.pyplot as plt\n",
    "import seaborn as sns\n",
    "\n",
    "cartera = pd.read_excel('c:/Users/pedro/Downloads/cartera_mensual_2024.xlsx')"
   ]
  },
  {
   "cell_type": "code",
   "execution_count": 112,
   "metadata": {},
   "outputs": [],
   "source": [
    "#NOS QUEDAMOS SOLO CON LAS COLUMNAS QUE NOS SON UTILES\n",
    "cartera_act = cartera[['fecha', 'afp', 'tipo_de_fondo', 'tipo_de_instrumento',\n",
    "                   'nemotecnico_del_instrumento', 'nombre_del_emisor',\n",
    "                   'nacionalidad_del_emisor', 'unidad_de_reajuste_de_moneda',\n",
    "                   'unidades', 'precio', 'inversion', 'grupo_economico']]\n",
    "\n",
    "\n",
    "cartera_act = cartera_act[~cartera_act['tipo_de_instrumento'].isin(['WNMC', 'WNMV', 'WEMC','WEMV', 'WENV',\n",
    "                                                                    'SNT', 'SNM', 'YSEM', 'YSET', 'YNMC', 'YNMV',\n",
    "                                                                     'YEMV', 'YENV', 'YEMC', 'YENC','YSNT'])]\n",
    "\n",
    "\n",
    "#CAMBIAMOS LA FECHA PARA QUE TENGA EL FORMATO QUE YO QUIERO\n",
    "cartera_act['fecha'] = pd.to_datetime(cartera_act['fecha'], format='%Y%m%d')\n",
    "cartera_act['fecha'] = cartera_act['fecha'].dt.strftime('%Y-%m-%d')"
   ]
  },
  {
   "cell_type": "markdown",
   "metadata": {},
   "source": [
    "AGREGAMOS LAS COLUMNAS DE PCT_FONDO [ES PESO DEL ACTIVO SOBRE EL TOTAL] Y PCT_FONDO_AFP[ES EL PESO DEL ACTIVO EN LA CARTERA DE LA AFP]"
   ]
  },
  {
   "cell_type": "code",
   "execution_count": 113,
   "metadata": {},
   "outputs": [],
   "source": [
    "total_fondo = cartera_act.groupby(['fecha','tipo_de_fondo'])['inversion'].sum().reset_index()\n",
    "total_fondo = total_fondo.rename(columns = {'inversion' : 'total_fondo'})\n",
    "cartera_act = cartera_act.merge(total_fondo, on = ['fecha','tipo_de_fondo'], how = 'left')\n",
    "cartera_act['pct_fondo'] = cartera_act['inversion'] / cartera_act['total_fondo']\n",
    "\n",
    "total_fondo = cartera_act.groupby(['fecha','tipo_de_fondo','afp'])['inversion'].sum().reset_index()\n",
    "total_fondo = total_fondo.rename(columns = {'inversion' : 'total_fondo_afp'})\n",
    "cartera_act = cartera_act.merge(total_fondo, on = ['fecha','tipo_de_fondo','afp'], how = 'left')\n",
    "cartera_act['pct_fondo_afp'] = cartera_act['inversion'] / cartera_act['total_fondo_afp']"
   ]
  },
  {
   "cell_type": "markdown",
   "metadata": {},
   "source": [
    "SEPARAMOS LAS CARTERAS POR FONDO"
   ]
  },
  {
   "cell_type": "code",
   "execution_count": 114,
   "metadata": {},
   "outputs": [],
   "source": [
    "fondo_a = cartera_act[cartera_act['tipo_de_fondo'] == 'A']\n",
    "fondo_b = cartera_act[cartera_act['tipo_de_fondo'] == 'B']\n",
    "fondo_c = cartera_act[cartera_act['tipo_de_fondo'] == 'C']\n",
    "fondo_d = cartera_act[cartera_act['tipo_de_fondo'] == 'D']\n",
    "fondo_e = cartera_act[cartera_act['tipo_de_fondo'] == 'E']\n"
   ]
  },
  {
   "cell_type": "markdown",
   "metadata": {},
   "source": [
    "GRAFICAMOS"
   ]
  },
  {
   "cell_type": "code",
   "execution_count": 115,
   "metadata": {},
   "outputs": [],
   "source": [
    "# # Graph 1: Evolution of pct_fondo based on tipo_act\n",
    "# plt.figure(figsize=(12, 6))\n",
    "# sns.lineplot(data=cartera_act, x='fecha', y='pct_fondo', hue='tipo_de_instrumento', marker='o')\n",
    "# plt.title('Evolution of pct_fondo by tipo_de_instrumento')\n",
    "# plt.xlabel('Tipo Act')\n",
    "# plt.ylabel('Pct Fondo')\n",
    "# plt.grid()\n",
    "# plt.show()"
   ]
  },
  {
   "cell_type": "code",
   "execution_count": 116,
   "metadata": {},
   "outputs": [],
   "source": [
    "# # Graph 2: Evolution of pct_fondo_afp based on tipo_act and afp\n",
    "# plt.figure(figsize=(12, 6))\n",
    "# sns.lineplot(data=cartera_act, x='tipo_de_instrumento', y='pct_fondo_afp', hue='afp', marker='o')\n",
    "# plt.title('Evolution of pct_fondo_afp by tipo_de_instrumento and afp')\n",
    "# plt.xlabel('Tipo Act')\n",
    "# plt.ylabel('Pct Fondo AFP')\n",
    "# plt.grid()\n",
    "# plt.legend(title='AFP')\n",
    "# plt.show()\n"
   ]
  }
 ],
 "metadata": {
  "kernelspec": {
   "display_name": "base",
   "language": "python",
   "name": "python3"
  },
  "language_info": {
   "codemirror_mode": {
    "name": "ipython",
    "version": 3
   },
   "file_extension": ".py",
   "mimetype": "text/x-python",
   "name": "python",
   "nbconvert_exporter": "python",
   "pygments_lexer": "ipython3",
   "version": "3.11.5"
  }
 },
 "nbformat": 4,
 "nbformat_minor": 2
}
